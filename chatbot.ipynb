{
 "cells": [
  {
   "cell_type": "code",
   "execution_count": 1,
   "metadata": {},
   "outputs": [],
   "source": [
    "import os\n",
    "from dotenv import load_dotenv\n",
    "load_dotenv()\n",
    "\n",
    "groq_api_key = os.getenv(\"GROQ_API_KEY\")"
   ]
  },
  {
   "cell_type": "code",
   "execution_count": 2,
   "metadata": {},
   "outputs": [
    {
     "data": {
      "text/plain": [
       "ChatGroq(client=<groq.resources.chat.completions.Completions object at 0x00000209362CEFE0>, async_client=<groq.resources.chat.completions.AsyncCompletions object at 0x00000209363003D0>, model_name='Gemma2-9b-It', model_kwargs={}, groq_api_key=SecretStr('**********'))"
      ]
     },
     "execution_count": 2,
     "metadata": {},
     "output_type": "execute_result"
    }
   ],
   "source": [
    "from langchain_groq import ChatGroq \n",
    "llm= ChatGroq(groq_api_key=groq_api_key,model_name=\"Gemma2-9b-It\")\n",
    "llm "
   ]
  },
  {
   "cell_type": "code",
   "execution_count": 3,
   "metadata": {},
   "outputs": [
    {
     "name": "stdout",
     "output_type": "stream",
     "text": [
      "Processed all PDFs.\n"
     ]
    }
   ],
   "source": [
    "import os\n",
    "from langchain.document_loaders import PyPDFLoader\n",
    "\n",
    "file_path = \"C:/Users/goyal/Desktop/project/sewak_ai/data.pdf\"\n",
    "loader = PyPDFLoader(file_path)\n",
    "data = loader.load()\n",
    "print(\"Processed all PDFs.\")\n"
   ]
  },
  {
   "cell_type": "code",
   "execution_count": 4,
   "metadata": {},
   "outputs": [
    {
     "name": "stderr",
     "output_type": "stream",
     "text": [
      "c:\\Users\\goyal\\Desktop\\project\\sewak_ai\\myenv\\lib\\site-packages\\tqdm\\auto.py:21: TqdmWarning: IProgress not found. Please update jupyter and ipywidgets. See https://ipywidgets.readthedocs.io/en/stable/user_install.html\n",
      "  from .autonotebook import tqdm as notebook_tqdm\n"
     ]
    }
   ],
   "source": [
    "os.environ['HF_TOKEN']=os.getenv(\"HF_TOKEN\")\n",
    "from langchain_huggingface import HuggingFaceEmbeddings\n",
    "embeddings = HuggingFaceEmbeddings(model_name=\"all-MiniLM-L6-v2\")"
   ]
  },
  {
   "cell_type": "code",
   "execution_count": 5,
   "metadata": {},
   "outputs": [],
   "source": [
    "from langchain_chroma import Chroma\n",
    "from langchain_core.prompts import ChatPromptTemplate\n",
    "from langchain_text_splitters import RecursiveCharacterTextSplitter\n",
    "from langchain.chains import create_retrieval_chain\n",
    "from langchain.chains.combine_documents import create_stuff_documents_chain"
   ]
  },
  {
   "cell_type": "code",
   "execution_count": 6,
   "metadata": {},
   "outputs": [],
   "source": [
    "text_splitter = RecursiveCharacterTextSplitter(chunk_size=200, chunk_overlap=80)\n",
    "splits = text_splitter.split_documents(data)"
   ]
  },
  {
   "cell_type": "code",
   "execution_count": 7,
   "metadata": {},
   "outputs": [
    {
     "data": {
      "text/plain": [
       "VectorStoreRetriever(tags=['Chroma', 'HuggingFaceEmbeddings'], vectorstore=<langchain_community.vectorstores.chroma.Chroma object at 0x00000209717FF850>, search_kwargs={})"
      ]
     },
     "execution_count": 7,
     "metadata": {},
     "output_type": "execute_result"
    }
   ],
   "source": [
    "from langchain.vectorstores import Chroma\n",
    "vectorstore = Chroma.from_documents(documents=splits,embedding=embeddings)\n",
    "retriever=vectorstore.as_retriever()\n",
    "retriever"
   ]
  },
  {
   "cell_type": "code",
   "execution_count": 8,
   "metadata": {},
   "outputs": [],
   "source": [
    "# question = \"what is the constitution of india  ?\"\n",
    "# docs = vectorstore.similarity_search(question, k=4)  # Pass the query string directly\n",
    "\n",
    "# # Print results\n",
    "# print(f\"Found {len(docs)} results:\")\n",
    "# for doc in docs:\n",
    "#     print(doc)"
   ]
  },
  {
   "cell_type": "code",
   "execution_count": 9,
   "metadata": {},
   "outputs": [],
   "source": [
    "from langchain_core.prompts import ChatPromptTemplate\n",
    "\n",
    "# Create refined RAG prompt\n",
    "rag_prompt = (\n",
    "    \"You are Sewak AI, an AI assistant for the constitution of India, specializing in queries related to \"\n",
    "    \"Articles details\"\n",
    "    \"Explaining constituion in easy language\"\n",
    "    \"Do not express personal opinions. Present constitutional provisions as they are, including different interpretations when necessary.\"\n",
    "    \"\\n\\n\"\n",
    "    \"{context}\"\n",
    ")\n",
    "prompt = ChatPromptTemplate.from_messages(\n",
    "    [\n",
    "        (\"system\",rag_prompt),\n",
    "        (\"human\",\"{input}\"),\n",
    "    ]\n",
    ")"
   ]
  },
  {
   "cell_type": "code",
   "execution_count": 10,
   "metadata": {},
   "outputs": [],
   "source": [
    "question_answer_chain=create_stuff_documents_chain(llm,prompt)\n",
    "rag_chain=create_retrieval_chain(retriever,question_answer_chain)"
   ]
  },
  {
   "cell_type": "code",
   "execution_count": 11,
   "metadata": {},
   "outputs": [
    {
     "data": {
      "text/plain": [
       "{'input': 'What is constitution of india',\n",
       " 'context': [Document(metadata={'page': 3, 'page_label': '4', 'source': 'C:/Users/goyal/Desktop/project/sewak_ai/data.pdf'}, page_content='THE CONSTITUTION OF INDIA   \\n____________                                                                     \\n                             \\nCONTENTS \\n__________'),\n",
       "  Document(metadata={'page': 126, 'page_label': '127', 'source': 'C:/Users/goyal/Desktop/project/sewak_ai/data.pdf'}, page_content='THE CONSTITUTION OF  INDIA \\n(Part VI.—The States) \\n96'),\n",
       "  Document(metadata={'page': 139, 'page_label': '140', 'source': 'C:/Users/goyal/Desktop/project/sewak_ai/data.pdf'}, page_content='THE CONSTITUTION OF  INDIA \\n(Part VI.—The States) \\n109'),\n",
       "  Document(metadata={'page': 200, 'page_label': '201', 'source': 'C:/Users/goyal/Desktop/project/sewak_ai/data.pdf'}, page_content='this Constitution, or for the purposes of any enactment relating to the \\nGovernment of India heretofore in force, nor shall any person making or')],\n",
       " 'answer': 'The Constitution of India is the supreme law of India. \\n\\nIt lays down the framework defining the fundamental political principles on which India is governed and outlines the powers and duties of the government established by it. \\n\\nYou\\'ve provided excerpts from Part VI of the Constitution, which deals with \"The States.\" To understand the Constitution better, I recommend exploring each part and article in detail.  \\n\\nWould you like me to explain any specific article or part of the Constitution in simpler terms? \\n\\n'}"
      ]
     },
     "execution_count": 11,
     "metadata": {},
     "output_type": "execute_result"
    }
   ],
   "source": [
    "response=rag_chain.invoke({\"input\":\"What is constitution of india\"})\n",
    "response"
   ]
  },
  {
   "cell_type": "code",
   "execution_count": 12,
   "metadata": {},
   "outputs": [
    {
     "data": {
      "text/plain": [
       "'The Constitution of India is the supreme law of India. \\n\\nIt lays down the framework defining the fundamental political principles on which India is governed and outlines the powers and duties of the government established by it. \\n\\nYou\\'ve provided excerpts from Part VI of the Constitution, which deals with \"The States.\" To understand the Constitution better, I recommend exploring each part and article in detail.  \\n\\nWould you like me to explain any specific article or part of the Constitution in simpler terms? \\n\\n'"
      ]
     },
     "execution_count": 12,
     "metadata": {},
     "output_type": "execute_result"
    }
   ],
   "source": [
    "response['answer']"
   ]
  },
  {
   "cell_type": "code",
   "execution_count": 13,
   "metadata": {},
   "outputs": [],
   "source": [
    "response2=rag_chain.invoke({\"input\":\"What are the article for discrimination\"})"
   ]
  },
  {
   "cell_type": "code",
   "execution_count": 14,
   "metadata": {},
   "outputs": [
    {
     "data": {
      "text/plain": [
       "\"The Indian Constitution prohibits discrimination in several articles. Here are the key ones you mentioned:\\n\\n* **Article 15:** This article states that the State shall not discriminate against any citizen on grounds of religion, race, caste, sex, or place of birth. \\n\\n* **Article 29:** This article protects the interests of minorities. It states that any law made by the Parliament or a State Legislature shall not discriminate against any citizen on the ground of religion, race, caste, language or any of them.\\n\\n* **Article 30:** This article guarantees the right of minorities to establish and administer educational institutions of their choice.\\n\\n**Important Note:**\\n\\nWhile these articles prohibit discrimination, Article 15(3) and 15(4) allow the state to make special provisions for the advancement of any socially and educationally backward classes or for the Scheduled Castes and the Scheduled Tribes. \\n\\n\\nIt's important to remember that the interpretation of these articles has evolved over time through court judgments.  \\n\\n\""
      ]
     },
     "execution_count": 14,
     "metadata": {},
     "output_type": "execute_result"
    }
   ],
   "source": [
    "response2['answer']"
   ]
  },
  {
   "cell_type": "markdown",
   "metadata": {},
   "source": [
    "### Adding chat history"
   ]
  },
  {
   "cell_type": "code",
   "execution_count": 23,
   "metadata": {},
   "outputs": [],
   "source": [
    "from langchain.chains import create_history_aware_retriever\n",
    "from langchain_core.prompts import MessagesPlaceholder\n",
    "\n",
    "contextualize_q_system_prompt = (\n",
    "    \"Given a chat history and the latest user question\"\n",
    "    \"which might reference context in the chat history\"\n",
    "    \"formulate a standalone question which can be understood\"\n",
    "    \"without the chat history.DO not answeer the question,\"\n",
    "    \"just reformulate it if needed and outherwisw return it as is.\"\n",
    ")\n",
    "contextualize_q_prompt= ChatPromptTemplate.from_messages(\n",
    "    [\n",
    "        (\"system\", contextualize_q_system_prompt),\n",
    "        MessagesPlaceholder(\"chat_history\"),\n",
    "        (\"human\", \"{input}\"),\n",
    "    ]\n",
    ")"
   ]
  },
  {
   "cell_type": "code",
   "execution_count": 25,
   "metadata": {},
   "outputs": [
    {
     "data": {
      "text/plain": [
       "RunnableBinding(bound=RunnableBranch(branches=[(RunnableLambda(lambda x: not x.get('chat_history', False)), RunnableLambda(lambda x: x['input'])\n",
       "| VectorStoreRetriever(tags=['Chroma', 'HuggingFaceEmbeddings'], vectorstore=<langchain_community.vectorstores.chroma.Chroma object at 0x00000209717FF850>, search_kwargs={}))], default=ChatPromptTemplate(input_variables=['chat_history', 'input'], input_types={'chat_history': list[typing.Annotated[typing.Union[typing.Annotated[langchain_core.messages.ai.AIMessage, Tag(tag='ai')], typing.Annotated[langchain_core.messages.human.HumanMessage, Tag(tag='human')], typing.Annotated[langchain_core.messages.chat.ChatMessage, Tag(tag='chat')], typing.Annotated[langchain_core.messages.system.SystemMessage, Tag(tag='system')], typing.Annotated[langchain_core.messages.function.FunctionMessage, Tag(tag='function')], typing.Annotated[langchain_core.messages.tool.ToolMessage, Tag(tag='tool')], typing.Annotated[langchain_core.messages.ai.AIMessageChunk, Tag(tag='AIMessageChunk')], typing.Annotated[langchain_core.messages.human.HumanMessageChunk, Tag(tag='HumanMessageChunk')], typing.Annotated[langchain_core.messages.chat.ChatMessageChunk, Tag(tag='ChatMessageChunk')], typing.Annotated[langchain_core.messages.system.SystemMessageChunk, Tag(tag='SystemMessageChunk')], typing.Annotated[langchain_core.messages.function.FunctionMessageChunk, Tag(tag='FunctionMessageChunk')], typing.Annotated[langchain_core.messages.tool.ToolMessageChunk, Tag(tag='ToolMessageChunk')]], FieldInfo(annotation=NoneType, required=True, discriminator=Discriminator(discriminator=<function _get_type at 0x00000209323A7250>, custom_error_type=None, custom_error_message=None, custom_error_context=None))]]}, partial_variables={}, messages=[SystemMessagePromptTemplate(prompt=PromptTemplate(input_variables=[], input_types={}, partial_variables={}, template='Given a chat history and the latest user questionwhich might reference context in the chat historyformulate a standalone question which can be understoodwithout the chat history.DO not answeer the question,just reformulate it if needed and outherwisw return it as is.'), additional_kwargs={}), MessagesPlaceholder(variable_name='chat_history'), HumanMessagePromptTemplate(prompt=PromptTemplate(input_variables=['input'], input_types={}, partial_variables={}, template='{input}'), additional_kwargs={})])\n",
       "| ChatGroq(client=<groq.resources.chat.completions.Completions object at 0x00000209362CEFE0>, async_client=<groq.resources.chat.completions.AsyncCompletions object at 0x00000209363003D0>, model_name='Gemma2-9b-It', model_kwargs={}, groq_api_key=SecretStr('**********'))\n",
       "| StrOutputParser()\n",
       "| VectorStoreRetriever(tags=['Chroma', 'HuggingFaceEmbeddings'], vectorstore=<langchain_community.vectorstores.chroma.Chroma object at 0x00000209717FF850>, search_kwargs={})), kwargs={}, config={'run_name': 'chat_retriever_chain'}, config_factories=[])"
      ]
     },
     "execution_count": 25,
     "metadata": {},
     "output_type": "execute_result"
    }
   ],
   "source": [
    "history_aware_retriever=create_history_aware_retriever(llm,retriever,contextualize_q_prompt)\n",
    "history_aware_retriever"
   ]
  },
  {
   "cell_type": "code",
   "execution_count": 27,
   "metadata": {},
   "outputs": [],
   "source": [
    "qa_prompt= ChatPromptTemplate.from_messages(\n",
    "    [\n",
    "        (\"system\",rag_prompt),\n",
    "        MessagesPlaceholder(\"chat_history\"),\n",
    "        (\"human\", \"{input}\"),\n",
    "    ]\n",
    ")"
   ]
  },
  {
   "cell_type": "code",
   "execution_count": 28,
   "metadata": {},
   "outputs": [],
   "source": [
    "question_answer_chain=create_stuff_documents_chain(llm,qa_prompt)\n",
    "rag_chain=create_retrieval_chain(history_aware_retriever,question_answer_chain)"
   ]
  },
  {
   "cell_type": "code",
   "execution_count": 30,
   "metadata": {},
   "outputs": [
    {
     "name": "stdout",
     "output_type": "stream",
     "text": [
      "You're asking about articles that address discrimination in the Indian Constitution.  \n",
      "\n",
      "While the Constitution doesn't have a single article explicitly titled \"Discrimination,\"  several articles prohibit it in various contexts.  Here are some key ones:\n",
      "\n",
      "**Fundamental Rights (Part III)**\n",
      "\n",
      "* **Article 14: Equality Before Law** - This is the cornerstone of equality. It states that the State shall not deny to any person equality before the law or the equal protection of the laws within the territory of India.\n",
      "* **Article 15: Prohibition of Discrimination on Grounds of Religion, Race, Caste, Sex or Place of Birth** - As discussed earlier, this article specifically prohibits discrimination based on these grounds.\n",
      "* **Article 16: Equality of Opportunity in Matters of Public Employment** - This article ensures that there shall be equality of opportunity in matters of public employment. It prohibits discrimination based on religion, race, caste, sex, descent, place of birth, or any of them.\n",
      "\n",
      "**Other Provisions**\n",
      "\n",
      "* **Article 29: Protection of Interests of Minorities** - This article protects the right of minorities to conserve their language, script, or culture. \n",
      "\n",
      "* **Article 30: Rights of Minorities in Education** - This article guarantees the right of minorities to establish and administer educational institutions of their choice.\n",
      "\n",
      "**Important Considerations:**\n",
      "\n",
      "* **Interpretation:** The scope of these articles and their interpretation has evolved over time through judicial decisions.  \n",
      "\n",
      "* **Special Provisions:**  The Constitution also includes special provisions aimed at addressing historical disadvantages faced by certain groups (like affirmative action policies). These provisions can sometimes be perceived as exceptions to the general prohibition against discrimination, leading to ongoing debates.\n",
      "\n",
      "\n",
      "\n",
      "For a deeper understanding, it's crucial to study the relevant case law and legal interpretations surrounding these articles. \n",
      "\n",
      "\n"
     ]
    }
   ],
   "source": [
    "from langchain_core.messages import AIMessage,HumanMessage\n",
    "chat_history=[]\n",
    "question=\"What are the article for discrimination in the constituton of india\"\n",
    "response1=rag_chain.invoke({\"input\":question,\"chat_history\":chat_history})\n",
    "\n",
    "chat_history.extend(\n",
    "    [\n",
    "        HumanMessage(content=question),\n",
    "        AIMessage(content=response1[\"answer\"])\n",
    "    ]\n",
    ")\n",
    "\n",
    "question2=\"What are the punishment for it?\"\n",
    "response2=rag_chain.invoke({\"input\":question,\"chat_history\":chat_history})\n",
    "print(response2[\"answer\"])"
   ]
  },
  {
   "cell_type": "code",
   "execution_count": 31,
   "metadata": {},
   "outputs": [
    {
     "data": {
      "text/plain": [
       "[HumanMessage(content='What are the article for discrimination in the constituton of india', additional_kwargs={}, response_metadata={}),\n",
       " AIMessage(content='You are asking about articles related to discrimination in the Indian Constitution. \\n\\nHere are the articles you mentioned and their relevant provisions:\\n\\n**Article 15: Prohibition of Discrimination on Grounds of Religion, Race, Caste, Sex or Place of Birth**\\n\\n* **(1)** The State shall not discriminate against any citizen on grounds only of religion, race, caste, sex, place of birth or any of them.\\n\\n* **(2) and (3)** These clauses permit the State to make special provisions for women and children, and for the advancement of any socially or educationally backward classes of citizens.\\n\\n* **(4)** This clause allows the State to make any law providing for the custody, adoption or guardianship of infants, for the purpose of their wellbeing.\\n\\n**Article 29: Protection of Interests of Minorities**\\n\\n* **(1)** Any section of the citizens residing in the territory of India or any part thereof having a distinct language, script or culture of its own shall have the right to conserve the same.\\n\\nThis article protects the right of minorities to preserve their language, script, and culture. \\n\\n**Important Note:**\\n\\nWhile these articles prohibit discrimination, the Constitution also recognizes that the State can make certain provisions to address historical disadvantages faced by particular groups. This can sometimes lead to debates about the nature and extent of permissible discrimination.\\n\\n\\nIt is important to consult legal experts and relevant case law for a comprehensive understanding of how these provisions have been interpreted and applied.\\n', additional_kwargs={}, response_metadata={})]"
      ]
     },
     "execution_count": 31,
     "metadata": {},
     "output_type": "execute_result"
    }
   ],
   "source": [
    "chat_history"
   ]
  },
  {
   "cell_type": "code",
   "execution_count": 33,
   "metadata": {},
   "outputs": [],
   "source": [
    "from langchain_community.chat_message_histories import ChatMessageHistory\n",
    "from langchain_core.chat_history import BaseChatMessageHistory\n",
    "from langchain_core.runnables.history import RunnableWithMessageHistory\n",
    "\n",
    "store = {}\n",
    "def get_session_history(session_id: str) -> BaseChatMessageHistory:\n",
    "    if session_id not in store:\n",
    "        store[session_id] = ChatMessageHistory()\n",
    "    return store[session_id]\n",
    "\n",
    "conversational_rag_chain = RunnableWithMessageHistory(\n",
    "    rag_chain,\n",
    "    get_session_history,\n",
    "    input_messages_key=\"input\",\n",
    "    history_messages_key=\"chat_history\",\n",
    "    output_messages_key=\"answer\",\n",
    "\n",
    ")"
   ]
  },
  {
   "cell_type": "code",
   "execution_count": 34,
   "metadata": {},
   "outputs": [
    {
     "data": {
      "text/plain": [
       "'According to the Indian Constitution, **Article 21A** guarantees the **Right to Education** for all children between the ages of six and fourteen years. \\n\\nThe State is obligated to provide **free and compulsory education** to this age group. This means that education is mandatory and cannot be denied to any child within this age range, and it must be provided without any cost to the parents.\\n\\n**Article 30** further elaborates on the rights of minorities. It states that all minorities, whether based on religion or language, have the right to establish and administer their own educational institutions. \\n\\n\\nLet me know if you have any other questions about these articles or any other provisions of the Indian Constitution. \\n\\n'"
      ]
     },
     "execution_count": 34,
     "metadata": {},
     "output_type": "execute_result"
    }
   ],
   "source": [
    "conversational_rag_chain.invoke(\n",
    "    {\"input\": \"what is right to education\"},\n",
    "    config={\n",
    "        \"configurable\":{\"session_id\":\"abc123\"}\n",
    "    },\n",
    ")[\"answer\"]"
   ]
  }
 ],
 "metadata": {
  "kernelspec": {
   "display_name": "myenv",
   "language": "python",
   "name": "python3"
  },
  "language_info": {
   "codemirror_mode": {
    "name": "ipython",
    "version": 3
   },
   "file_extension": ".py",
   "mimetype": "text/x-python",
   "name": "python",
   "nbconvert_exporter": "python",
   "pygments_lexer": "ipython3",
   "version": "3.10.0"
  }
 },
 "nbformat": 4,
 "nbformat_minor": 2
}
